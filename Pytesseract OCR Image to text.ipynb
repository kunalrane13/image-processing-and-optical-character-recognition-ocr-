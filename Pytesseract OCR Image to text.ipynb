{
 "cells": [
  {
   "cell_type": "code",
   "execution_count": 1,
   "id": "659c856d",
   "metadata": {},
   "outputs": [],
   "source": [
    "import pytesseract\n",
    "from PIL import Image\n",
    "import cv2\n"
   ]
  },
  {
   "cell_type": "code",
   "execution_count": 5,
   "id": "24d78985",
   "metadata": {},
   "outputs": [],
   "source": [
    "img = cv2.imread('Mission.png')\n",
    "\n",
    "pytesseract.pytesseract.tesseract_cmd = r'C:\\Program Files\\Tesseract-OCR\\tesseract.exe'\n",
    "\n",
    "def ocr_core(img):\n",
    "    text= pytesseract.image_to_string(img)\n",
    "    return text\n",
    "def get_grescale(image):\n",
    "    return cv2.cvtColor(image, cv2.COLOR_BGR2GRAY)\n",
    "# def remove_noise(image):\n",
    "#     return cv2.medianBlur(image,5)\n",
    "def thresholding(image):\n",
    "    return cv2.threshold(image,0,255,cv2.THRESH_BINARY + cv2.THRESH_OTSU)[1]\n"
   ]
  },
  {
   "cell_type": "code",
   "execution_count": 6,
   "id": "8253af9d",
   "metadata": {},
   "outputs": [],
   "source": [
    "img = get_grescale(img)\n",
    "# img = remove_noise(img)\n",
    "img = thresholding(img)"
   ]
  },
  {
   "cell_type": "code",
   "execution_count": 7,
   "id": "f525faea",
   "metadata": {},
   "outputs": [
    {
     "name": "stdout",
     "output_type": "stream",
     "text": [
      "1002-9 Advisory 9 0.00\n",
      "2101-9 English-9 5.00\n",
      "2206 Spanish | 5.00\n",
      "2403 Algebra | 5.00\n",
      "2453-9 (T Essentials 5.00\n",
      "2500-0 PEHS 5.00\n",
      "2505-C LOCC 5.00\n",
      "2810 Basic Art 5.00\n",
      "Credit Att: 35.00 Cmp: 35.00 AGPA: 3.8000\n",
      "Grade 9 Spring 2018-2019\n",
      "\n",
      "rPPPruorrpdo\n",
      "\n",
      "1002-9 Advisory 9\n",
      "2101-9 English-9\n",
      "2206 Spanish |\n",
      "2403 Algebra |\n",
      "2500-0 PEHS\n",
      "2500-0 Softball\n",
      "2505-9 LOC9\n",
      "2614 ~—- Health 5.00\n",
      "2810 Basic Art 5.00\n",
      "Credit Att: 40.00 Cmp: 40.00 AGPA: 3.4000\n",
      "\n",
      "0102 Student Leaders B .\n",
      "2100 Social Justice\n",
      "\n",
      "2101-0 English 10\n",
      "\n",
      "21019H AP Human Geog\n",
      "\n",
      "2208 Spanish Il\n",
      "\n",
      "2408 Geometry\n",
      "\n",
      "2500 Volleyball\n",
      "\n",
      "2505-0 LOC 10\n",
      "\n",
      "2603AP AP Biology\n",
      "\n",
      "0.00\n",
      "5.00\n",
      "5.00\n",
      "5.00\n",
      "5.00\n",
      "5.00\n",
      "5.00\n",
      "\n",
      "P\n",
      "B\n",
      "A\n",
      "B\n",
      "A\n",
      "P\n",
      "A\n",
      "B\n",
      "A\n",
      "\n",
      "\n"
     ]
    }
   ],
   "source": [
    "print(ocr_core(img))"
   ]
  },
  {
   "cell_type": "code",
   "execution_count": null,
   "id": "80139f8d",
   "metadata": {},
   "outputs": [],
   "source": []
  }
 ],
 "metadata": {
  "kernelspec": {
   "display_name": "Python 3 (ipykernel)",
   "language": "python",
   "name": "python3"
  },
  "language_info": {
   "codemirror_mode": {
    "name": "ipython",
    "version": 3
   },
   "file_extension": ".py",
   "mimetype": "text/x-python",
   "name": "python",
   "nbconvert_exporter": "python",
   "pygments_lexer": "ipython3",
   "version": "3.9.13"
  }
 },
 "nbformat": 4,
 "nbformat_minor": 5
}
